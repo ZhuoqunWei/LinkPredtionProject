{
 "cells": [
  {
   "cell_type": "code",
   "execution_count": null,
   "metadata": {},
   "outputs": [],
   "source": [
    "# ! pip install ogb\n",
    "# ! python -c \"import ogb; print(ogb.__version__)\"\n",
    "# # Otherwise, please update the version by running\n",
    "# ! pip install -U ogb\n",
    "\n",
    "# ! pip install torch_geometric\n",
    "# ! pip install --upgrade ogb\n",
    "\n",
    "# ! pip install -U torch-geometric\n",
    "# ! pip install torch-scatter torch-sparse torch-cluster\n",
    "\n"
   ]
  },
  {
   "cell_type": "code",
   "execution_count": null,
   "metadata": {},
   "outputs": [],
   "source": [
    "# import os\n",
    "# import shutil\n",
    "\n",
    "# processed_dir = 'dataset/ogbl_collab/processed'\n",
    "# if os.path.exists(processed_dir):\n",
    "#     shutil.rmtree(processed_dir)\n",
    "\n",
    "from ogb.linkproppred import PygLinkPropPredDataset\n",
    "from torch_geometric.loader import DataLoader\n",
    "\n",
    "# from ogb.graphproppred import PygGraphPropPredDataset\n",
    "# from torch_geometric.data import DataLoader\n",
    "\n",
    "# Download and process data, stored in './dataset/ogbl_collab/'\n",
    "dataset = PygLinkPropPredDataset(name=\"ogbl-collab\", root='dataset/')\n"
   ]
  },
  {
   "cell_type": "code",
   "execution_count": null,
   "metadata": {},
   "outputs": [],
   "source": [
    "# Get split edges from the dataset\n",
    "split_edge = dataset.get_edge_split()\n",
    "\n",
    "# Extract edge lists for train, valid, and test splits\n",
    "train_edges = split_edge[\"train\"]['edge']  # List of training edges\n",
    "valid_edges = split_edge[\"valid\"]['edge']  # List of validation edges\n",
    "test_edges = split_edge[\"test\"]['edge']    # List of test edges\n",
    "\n",
    "from torch_geometric.data import Data\n",
    "\n",
    "# Convert to Data objects if necessary\n",
    "train_data = Data(edge_index=train_edges.T)  # Transpose to match PyG format\n",
    "valid_data = Data(edge_index=valid_edges.T)\n",
    "test_data = Data(edge_index=test_edges.T)\n",
    "\n",
    "# Create DataLoaders\n",
    "train_loader = DataLoader([train_data], batch_size=32, shuffle=True)\n",
    "valid_loader = DataLoader([valid_data], batch_size=32, shuffle=False)\n",
    "test_loader = DataLoader([test_data], batch_size=32, shuffle=False)\n",
    "\n",
    "# Load graph data\n",
    "data = dataset[0]  # PyG graph object\n"
   ]
  },
  {
   "cell_type": "code",
   "execution_count": null,
   "metadata": {},
   "outputs": [],
   "source": [
    "from ogb.graphproppred import Evaluator\n",
    "\n",
    "evaluator = Evaluator(name = \"ogbg-molhiv\")\n",
    "# You can learn the input and output format specification of the evaluator as follows.\n",
    "# print(evaluator.expected_input_format) \n",
    "# print(evaluator.expected_output_format) \n",
    "input_dict = {\"y_true\": y_true, \"y_pred\": y_pred}\n",
    "result_dict = evaluator.eval(input_dict) # E.g., {\"rocauc\": 0.7321}"
   ]
  }
 ],
 "metadata": {
  "kernelspec": {
   "display_name": "Python 3 (ipykernel)",
   "language": "python",
   "name": "python3"
  }
 },
 "nbformat": 4,
 "nbformat_minor": 2
}
