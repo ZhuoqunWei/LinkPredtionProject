{
 "cells": [
  {
   "cell_type": "code",
   "execution_count": null,
   "metadata": {},
   "outputs": [
    {
     "name": "stdout",
     "output_type": "stream",
     "text": [
      "Requirement already satisfied: torch_geometric in /home/xiaot/miniconda3/envs/cs276/lib/python3.7/site-packages (2.3.1)\n",
      "Requirement already satisfied: ogb in /home/xiaot/miniconda3/envs/cs276/lib/python3.7/site-packages (1.3.6)\n",
      "Requirement already satisfied: tqdm in /home/xiaot/miniconda3/envs/cs276/lib/python3.7/site-packages (from torch_geometric) (4.67.0)\n",
      "Requirement already satisfied: numpy in /home/xiaot/miniconda3/envs/cs276/lib/python3.7/site-packages (from torch_geometric) (1.21.6)\n",
      "Requirement already satisfied: scipy in /home/xiaot/miniconda3/envs/cs276/lib/python3.7/site-packages (from torch_geometric) (1.7.3)\n",
      "Requirement already satisfied: jinja2 in /home/xiaot/miniconda3/envs/cs276/lib/python3.7/site-packages (from torch_geometric) (3.1.4)\n",
      "Requirement already satisfied: requests in /home/xiaot/miniconda3/envs/cs276/lib/python3.7/site-packages (from torch_geometric) (2.31.0)\n",
      "Requirement already satisfied: pyparsing in /home/xiaot/miniconda3/envs/cs276/lib/python3.7/site-packages (from torch_geometric) (3.1.4)\n",
      "Requirement already satisfied: scikit-learn in /home/xiaot/miniconda3/envs/cs276/lib/python3.7/site-packages (from torch_geometric) (1.0.2)\n",
      "Requirement already satisfied: psutil>=5.8.0 in /home/xiaot/miniconda3/envs/cs276/lib/python3.7/site-packages (from torch_geometric) (6.1.0)\n",
      "Requirement already satisfied: torch>=1.6.0 in /home/xiaot/miniconda3/envs/cs276/lib/python3.7/site-packages (from ogb) (1.13.1)\n",
      "Requirement already satisfied: pandas>=0.24.0 in /home/xiaot/miniconda3/envs/cs276/lib/python3.7/site-packages (from ogb) (1.3.5)\n",
      "Requirement already satisfied: six>=1.12.0 in /home/xiaot/miniconda3/envs/cs276/lib/python3.7/site-packages (from ogb) (1.16.0)\n",
      "Requirement already satisfied: urllib3>=1.24.0 in /home/xiaot/miniconda3/envs/cs276/lib/python3.7/site-packages (from ogb) (2.0.7)\n",
      "Requirement already satisfied: outdated>=0.2.0 in /home/xiaot/miniconda3/envs/cs276/lib/python3.7/site-packages (from ogb) (0.2.2)\n",
      "Requirement already satisfied: setuptools>=44 in /home/xiaot/miniconda3/envs/cs276/lib/python3.7/site-packages (from outdated>=0.2.0->ogb) (65.6.3)\n",
      "Requirement already satisfied: littleutils in /home/xiaot/miniconda3/envs/cs276/lib/python3.7/site-packages (from outdated>=0.2.0->ogb) (0.2.2)\n",
      "Requirement already satisfied: python-dateutil>=2.7.3 in /home/xiaot/miniconda3/envs/cs276/lib/python3.7/site-packages (from pandas>=0.24.0->ogb) (2.9.0.post0)\n",
      "Requirement already satisfied: pytz>=2017.3 in /home/xiaot/miniconda3/envs/cs276/lib/python3.7/site-packages (from pandas>=0.24.0->ogb) (2024.2)\n",
      "Requirement already satisfied: joblib>=0.11 in /home/xiaot/miniconda3/envs/cs276/lib/python3.7/site-packages (from scikit-learn->torch_geometric) (1.3.2)\n",
      "Requirement already satisfied: threadpoolctl>=2.0.0 in /home/xiaot/miniconda3/envs/cs276/lib/python3.7/site-packages (from scikit-learn->torch_geometric) (3.1.0)\n",
      "Requirement already satisfied: typing-extensions in /home/xiaot/miniconda3/envs/cs276/lib/python3.7/site-packages (from torch>=1.6.0->ogb) (4.7.1)\n",
      "Requirement already satisfied: nvidia-cuda-runtime-cu11==11.7.99 in /home/xiaot/miniconda3/envs/cs276/lib/python3.7/site-packages (from torch>=1.6.0->ogb) (11.7.99)\n",
      "Requirement already satisfied: nvidia-cudnn-cu11==8.5.0.96 in /home/xiaot/miniconda3/envs/cs276/lib/python3.7/site-packages (from torch>=1.6.0->ogb) (8.5.0.96)\n",
      "Requirement already satisfied: nvidia-cublas-cu11==11.10.3.66 in /home/xiaot/miniconda3/envs/cs276/lib/python3.7/site-packages (from torch>=1.6.0->ogb) (11.10.3.66)\n",
      "Requirement already satisfied: nvidia-cuda-nvrtc-cu11==11.7.99 in /home/xiaot/miniconda3/envs/cs276/lib/python3.7/site-packages (from torch>=1.6.0->ogb) (11.7.99)\n",
      "Requirement already satisfied: wheel in /home/xiaot/miniconda3/envs/cs276/lib/python3.7/site-packages (from nvidia-cublas-cu11==11.10.3.66->torch>=1.6.0->ogb) (0.38.4)\n",
      "Requirement already satisfied: MarkupSafe>=2.0 in /home/xiaot/miniconda3/envs/cs276/lib/python3.7/site-packages (from jinja2->torch_geometric) (2.1.5)\n",
      "Requirement already satisfied: charset-normalizer<4,>=2 in /home/xiaot/miniconda3/envs/cs276/lib/python3.7/site-packages (from requests->torch_geometric) (3.4.0)\n",
      "Requirement already satisfied: idna<4,>=2.5 in /home/xiaot/miniconda3/envs/cs276/lib/python3.7/site-packages (from requests->torch_geometric) (3.10)\n",
      "Requirement already satisfied: certifi>=2017.4.17 in /home/xiaot/miniconda3/envs/cs276/lib/python3.7/site-packages (from requests->torch_geometric) (2022.12.7)\n",
      "1.3.6\n"
     ]
    }
   ],
   "source": [
    "! pip install --upgrade torch_geometric ogb\n",
    "! python -c \"import ogb; print(ogb.__version__)\""
   ]
  },
  {
   "cell_type": "code",
   "execution_count": 2,
   "metadata": {},
   "outputs": [
    {
     "name": "stdout",
     "output_type": "stream",
     "text": [
      "Downloading http://snap.stanford.edu/ogb/data/linkproppred/collab.zip\n"
     ]
    },
    {
     "name": "stderr",
     "output_type": "stream",
     "text": [
      "Downloaded 0.11 GB: 100%|███████████████████████████████████████████████████████████████████████████████████████████████████████████████████████████████████| 117/117 [00:38<00:00,  3.00it/s]\n"
     ]
    },
    {
     "name": "stdout",
     "output_type": "stream",
     "text": [
      "Extracting dataset/collab.zip\n"
     ]
    },
    {
     "name": "stderr",
     "output_type": "stream",
     "text": [
      "Processing...\n"
     ]
    },
    {
     "name": "stdout",
     "output_type": "stream",
     "text": [
      "Loading necessary files...\n",
      "This might take a while.\n",
      "Processing graphs...\n"
     ]
    },
    {
     "name": "stderr",
     "output_type": "stream",
     "text": [
      "100%|███████████████████████████████████████████████████████████████████████████████████████████████████████████████████████████████████████████████████████████| 1/1 [00:00<00:00, 43.10it/s]\n"
     ]
    },
    {
     "name": "stdout",
     "output_type": "stream",
     "text": [
      "Converting graphs into PyG objects...\n"
     ]
    },
    {
     "name": "stderr",
     "output_type": "stream",
     "text": [
      "100%|███████████████████████████████████████████████████████████████████████████████████████████████████████████████████████████████████████████████████████████| 1/1 [00:00<00:00, 68.70it/s]"
     ]
    },
    {
     "name": "stdout",
     "output_type": "stream",
     "text": [
      "Saving...\n"
     ]
    },
    {
     "name": "stderr",
     "output_type": "stream",
     "text": [
      "\n",
      "Done!\n"
     ]
    }
   ],
   "source": [
    "from ogb.linkproppred import PygLinkPropPredDataset\n",
    "from torch_geometric.loader import DataLoader\n",
    "\n",
    "# Download and process data, stored in './dataset/ogbl_collab/'\n",
    "dataset = PygLinkPropPredDataset(name=\"ogbl-collab\", root='dataset/')"
   ]
  },
  {
   "cell_type": "code",
   "execution_count": 3,
   "metadata": {},
   "outputs": [],
   "source": [
    "# Get split edges from the dataset\n",
    "split_edge = dataset.get_edge_split()\n",
    "\n",
    "# Extract edge lists for train, valid, and test splits\n",
    "train_edges = split_edge[\"train\"]['edge']  # List of training edges\n",
    "valid_edges = split_edge[\"valid\"]['edge']  # List of validation edges\n",
    "test_edges = split_edge[\"test\"]['edge']    # List of test edges\n",
    "\n",
    "from torch_geometric.data import Data\n",
    "\n",
    "# Convert to Data objects if necessary\n",
    "train_data = Data(edge_index=train_edges.T)  # Transpose to match PyG format\n",
    "valid_data = Data(edge_index=valid_edges.T)\n",
    "test_data = Data(edge_index=test_edges.T)\n",
    "\n",
    "# Create DataLoaders\n",
    "train_loader = DataLoader([train_data], batch_size=32, shuffle=True)\n",
    "valid_loader = DataLoader([valid_data], batch_size=32, shuffle=False)\n",
    "test_loader = DataLoader([test_data], batch_size=32, shuffle=False)"
   ]
  },
  {
   "cell_type": "code",
   "execution_count": 4,
   "metadata": {},
   "outputs": [
    {
     "name": "stdout",
     "output_type": "stream",
     "text": [
      "Epoch 0, Loss: 0.6763266324996948\n",
      "Epoch 10, Loss: 0.5770453214645386\n",
      "Epoch 20, Loss: 0.5569776296615601\n",
      "Epoch 30, Loss: 0.5353121757507324\n",
      "Epoch 40, Loss: 0.4935433864593506\n",
      "Epoch 50, Loss: 0.48045605421066284\n",
      "Epoch 60, Loss: 0.4622229337692261\n",
      "Epoch 70, Loss: 0.45671918988227844\n",
      "Epoch 80, Loss: 0.4531313478946686\n",
      "Epoch 90, Loss: 0.44962701201438904\n",
      "Validation Scores: tensor([1.0000, 0.8845, 0.7879,  ..., 0.9831, 0.8556, 0.6998])\n",
      "Test Scores: tensor([0.0314, 0.8364, 0.7879,  ..., 0.9927, 0.8873, 0.8494])\n"
     ]
    }
   ],
   "source": [
    "import torch\n",
    "from torch_geometric.nn import GCNConv\n",
    "from torch_geometric.utils import negative_sampling\n",
    "from torch_geometric.data import Data\n",
    "from torch.utils.data import DataLoader\n",
    "\n",
    "# Define a simple GCN-based link prediction model\n",
    "class GCNLinkPredictor(torch.nn.Module):\n",
    "    def __init__(self, in_channels, hidden_channels, out_channels):\n",
    "        super(GCNLinkPredictor, self).__init__()\n",
    "        self.conv1 = GCNConv(in_channels, hidden_channels)\n",
    "        self.conv2 = GCNConv(hidden_channels, out_channels)\n",
    "    \n",
    "    def forward(self, x, edge_index):\n",
    "        x = self.conv1(x, edge_index).relu()\n",
    "        x = self.conv2(x, edge_index)\n",
    "        return x\n",
    "    \n",
    "    def predict(self, x_i, x_j):\n",
    "        # Dot product to predict link probability\n",
    "        return (x_i * x_j).sum(dim=-1)\n",
    "\n",
    "# Load graph data\n",
    "data = dataset[0]  # PyG graph object\n",
    "in_channels = data.num_features\n",
    "hidden_channels = 64\n",
    "out_channels = 32\n",
    "\n",
    "# Instantiate the model and optimizer\n",
    "model = GCNLinkPredictor(in_channels, hidden_channels, out_channels)\n",
    "optimizer = torch.optim.Adam(model.parameters(), lr=0.01)\n",
    "\n",
    "# Training loop\n",
    "def train():\n",
    "    model.train()\n",
    "    optimizer.zero_grad()\n",
    "    \n",
    "    # Forward pass\n",
    "    x = model(data.x, data.edge_index)\n",
    "    \n",
    "    # Positive edges\n",
    "    pos_edge_index = train_edges.T\n",
    "    \n",
    "    # Sample negative edges\n",
    "    neg_edge_index = negative_sampling(pos_edge_index, num_nodes=data.num_nodes)\n",
    "    \n",
    "    # Compute link prediction scores for positive and negative edges\n",
    "    pos_pred = model.predict(x[pos_edge_index[0]], x[pos_edge_index[1]])\n",
    "    neg_pred = model.predict(x[neg_edge_index[0]], x[neg_edge_index[1]])\n",
    "    \n",
    "    # Labels for positive and negative edges\n",
    "    pos_label = torch.ones(pos_pred.size(0))\n",
    "    neg_label = torch.zeros(neg_pred.size(0))\n",
    "    \n",
    "    # Concatenate predictions and labels\n",
    "    pred = torch.cat([pos_pred, neg_pred], dim=0)\n",
    "    label = torch.cat([pos_label, neg_label], dim=0)\n",
    "    \n",
    "    # Loss\n",
    "    loss = torch.nn.functional.binary_cross_entropy_with_logits(pred, label)\n",
    "    loss.backward()\n",
    "    optimizer.step()\n",
    "    return loss.item()\n",
    "\n",
    "# Training the model\n",
    "for epoch in range(100):\n",
    "    loss = train()\n",
    "    if epoch % 10 == 0:\n",
    "        print(f'Epoch {epoch}, Loss: {loss}')\n",
    "\n",
    "# Evaluate on validation or test set\n",
    "def evaluate(edge_index):\n",
    "    model.eval()\n",
    "    with torch.no_grad():\n",
    "        x = model(data.x, data.edge_index)\n",
    "        pos_pred = model.predict(x[edge_index[0]], x[edge_index[1]])\n",
    "        return torch.sigmoid(pos_pred)\n",
    "\n",
    "# Predict on validation and test edges\n",
    "valid_scores = evaluate(valid_edges.T)\n",
    "test_scores = evaluate(test_edges.T)\n",
    "\n",
    "print(\"Validation Scores:\", valid_scores)\n",
    "print(\"Test Scores:\", test_scores)\n"
   ]
  },
  {
   "cell_type": "code",
   "execution_count": 5,
   "metadata": {},
   "outputs": [
    {
     "ename": "KeyboardInterrupt",
     "evalue": "",
     "output_type": "error",
     "traceback": [
      "\u001b[0;31m---------------------------------------------------------------------------\u001b[0m",
      "\u001b[0;31mKeyboardInterrupt\u001b[0m                         Traceback (most recent call last)",
      "\u001b[0;32m/tmp/ipykernel_14116/2824378706.py\u001b[0m in \u001b[0;36m<module>\u001b[0;34m\u001b[0m\n\u001b[1;32m      8\u001b[0m \u001b[0;31m# Plot original graph with nodes and edges\u001b[0m\u001b[0;34m\u001b[0m\u001b[0;34m\u001b[0m\u001b[0;34m\u001b[0m\u001b[0m\n\u001b[1;32m      9\u001b[0m \u001b[0mplt\u001b[0m\u001b[0;34m.\u001b[0m\u001b[0mfigure\u001b[0m\u001b[0;34m(\u001b[0m\u001b[0mfigsize\u001b[0m\u001b[0;34m=\u001b[0m\u001b[0;34m(\u001b[0m\u001b[0;36m10\u001b[0m\u001b[0;34m,\u001b[0m \u001b[0;36m10\u001b[0m\u001b[0;34m)\u001b[0m\u001b[0;34m)\u001b[0m\u001b[0;34m\u001b[0m\u001b[0;34m\u001b[0m\u001b[0m\n\u001b[0;32m---> 10\u001b[0;31m \u001b[0mpos\u001b[0m \u001b[0;34m=\u001b[0m \u001b[0mnx\u001b[0m\u001b[0;34m.\u001b[0m\u001b[0mspring_layout\u001b[0m\u001b[0;34m(\u001b[0m\u001b[0mG\u001b[0m\u001b[0;34m,\u001b[0m \u001b[0mseed\u001b[0m\u001b[0;34m=\u001b[0m\u001b[0;36m42\u001b[0m\u001b[0;34m)\u001b[0m  \u001b[0;31m# Use spring layout for visualization\u001b[0m\u001b[0;34m\u001b[0m\u001b[0;34m\u001b[0m\u001b[0m\n\u001b[0m\u001b[1;32m     11\u001b[0m \u001b[0;34m\u001b[0m\u001b[0m\n\u001b[1;32m     12\u001b[0m \u001b[0;31m# Draw original graph nodes and edges\u001b[0m\u001b[0;34m\u001b[0m\u001b[0;34m\u001b[0m\u001b[0;34m\u001b[0m\u001b[0m\n",
      "\u001b[0;32m~/miniconda3/envs/cs276/lib/python3.7/site-packages/networkx/utils/decorators.py\u001b[0m in \u001b[0;36mfunc\u001b[0;34m(_argmap__wrapper, *args, **kwargs)\u001b[0m\n\u001b[1;32m    793\u001b[0m \u001b[0;34m\u001b[0m\u001b[0m\n\u001b[1;32m    794\u001b[0m             \u001b[0;32mdef\u001b[0m \u001b[0mfunc\u001b[0m\u001b[0;34m(\u001b[0m\u001b[0;34m*\u001b[0m\u001b[0margs\u001b[0m\u001b[0;34m,\u001b[0m \u001b[0m__wrapper\u001b[0m\u001b[0;34m=\u001b[0m\u001b[0;32mNone\u001b[0m\u001b[0;34m,\u001b[0m \u001b[0;34m**\u001b[0m\u001b[0mkwargs\u001b[0m\u001b[0;34m)\u001b[0m\u001b[0;34m:\u001b[0m\u001b[0;34m\u001b[0m\u001b[0;34m\u001b[0m\u001b[0m\n\u001b[0;32m--> 795\u001b[0;31m                 \u001b[0;32mreturn\u001b[0m \u001b[0margmap\u001b[0m\u001b[0;34m.\u001b[0m\u001b[0m_lazy_compile\u001b[0m\u001b[0;34m(\u001b[0m\u001b[0m__wrapper\u001b[0m\u001b[0;34m)\u001b[0m\u001b[0;34m(\u001b[0m\u001b[0;34m*\u001b[0m\u001b[0margs\u001b[0m\u001b[0;34m,\u001b[0m \u001b[0;34m**\u001b[0m\u001b[0mkwargs\u001b[0m\u001b[0;34m)\u001b[0m\u001b[0;34m\u001b[0m\u001b[0;34m\u001b[0m\u001b[0m\n\u001b[0m\u001b[1;32m    796\u001b[0m \u001b[0;34m\u001b[0m\u001b[0m\n\u001b[1;32m    797\u001b[0m         \u001b[0;31m# standard function-wrapping stuff\u001b[0m\u001b[0;34m\u001b[0m\u001b[0;34m\u001b[0m\u001b[0;34m\u001b[0m\u001b[0m\n",
      "\u001b[0;32m~/miniconda3/envs/cs276/lib/python3.7/site-packages/networkx/utils/decorators.py\u001b[0m in \u001b[0;36margmap_spring_layout_1\u001b[0;34m(G, k, pos, fixed, iterations, threshold, weight, scale, center, dim, seed)\u001b[0m\n\u001b[1;32m      2\u001b[0m \u001b[0;32mfrom\u001b[0m \u001b[0mos\u001b[0m\u001b[0;34m.\u001b[0m\u001b[0mpath\u001b[0m \u001b[0;32mimport\u001b[0m \u001b[0msplitext\u001b[0m\u001b[0;34m\u001b[0m\u001b[0;34m\u001b[0m\u001b[0m\n\u001b[1;32m      3\u001b[0m \u001b[0;32mfrom\u001b[0m \u001b[0mcontextlib\u001b[0m \u001b[0;32mimport\u001b[0m \u001b[0mcontextmanager\u001b[0m\u001b[0;34m\u001b[0m\u001b[0;34m\u001b[0m\u001b[0m\n\u001b[0;32m----> 4\u001b[0;31m \u001b[0;32mfrom\u001b[0m \u001b[0mpathlib\u001b[0m \u001b[0;32mimport\u001b[0m \u001b[0mPath\u001b[0m\u001b[0;34m\u001b[0m\u001b[0;34m\u001b[0m\u001b[0m\n\u001b[0m\u001b[1;32m      5\u001b[0m \u001b[0;32mimport\u001b[0m \u001b[0mwarnings\u001b[0m\u001b[0;34m\u001b[0m\u001b[0;34m\u001b[0m\u001b[0m\n\u001b[1;32m      6\u001b[0m \u001b[0;34m\u001b[0m\u001b[0m\n",
      "\u001b[0;32m~/miniconda3/envs/cs276/lib/python3.7/site-packages/networkx/drawing/layout.py\u001b[0m in \u001b[0;36mspring_layout\u001b[0;34m(G, k, pos, fixed, iterations, threshold, weight, scale, center, dim, seed)\u001b[0m\n\u001b[1;32m    480\u001b[0m             \u001b[0mk\u001b[0m \u001b[0;34m=\u001b[0m \u001b[0mdom_size\u001b[0m \u001b[0;34m/\u001b[0m \u001b[0mnp\u001b[0m\u001b[0;34m.\u001b[0m\u001b[0msqrt\u001b[0m\u001b[0;34m(\u001b[0m\u001b[0mnnodes\u001b[0m\u001b[0;34m)\u001b[0m\u001b[0;34m\u001b[0m\u001b[0;34m\u001b[0m\u001b[0m\n\u001b[1;32m    481\u001b[0m         pos = _sparse_fruchterman_reingold(\n\u001b[0;32m--> 482\u001b[0;31m             \u001b[0mA\u001b[0m\u001b[0;34m,\u001b[0m \u001b[0mk\u001b[0m\u001b[0;34m,\u001b[0m \u001b[0mpos_arr\u001b[0m\u001b[0;34m,\u001b[0m \u001b[0mfixed\u001b[0m\u001b[0;34m,\u001b[0m \u001b[0miterations\u001b[0m\u001b[0;34m,\u001b[0m \u001b[0mthreshold\u001b[0m\u001b[0;34m,\u001b[0m \u001b[0mdim\u001b[0m\u001b[0;34m,\u001b[0m \u001b[0mseed\u001b[0m\u001b[0;34m\u001b[0m\u001b[0;34m\u001b[0m\u001b[0m\n\u001b[0m\u001b[1;32m    483\u001b[0m         )\n\u001b[1;32m    484\u001b[0m     \u001b[0;32mexcept\u001b[0m \u001b[0mValueError\u001b[0m\u001b[0;34m:\u001b[0m\u001b[0;34m\u001b[0m\u001b[0;34m\u001b[0m\u001b[0m\n",
      "\u001b[0;32m~/miniconda3/envs/cs276/lib/python3.7/site-packages/networkx/utils/decorators.py\u001b[0m in \u001b[0;36mfunc\u001b[0;34m(_argmap__wrapper, *args, **kwargs)\u001b[0m\n\u001b[1;32m    793\u001b[0m \u001b[0;34m\u001b[0m\u001b[0m\n\u001b[1;32m    794\u001b[0m             \u001b[0;32mdef\u001b[0m \u001b[0mfunc\u001b[0m\u001b[0;34m(\u001b[0m\u001b[0;34m*\u001b[0m\u001b[0margs\u001b[0m\u001b[0;34m,\u001b[0m \u001b[0m__wrapper\u001b[0m\u001b[0;34m=\u001b[0m\u001b[0;32mNone\u001b[0m\u001b[0;34m,\u001b[0m \u001b[0;34m**\u001b[0m\u001b[0mkwargs\u001b[0m\u001b[0;34m)\u001b[0m\u001b[0;34m:\u001b[0m\u001b[0;34m\u001b[0m\u001b[0;34m\u001b[0m\u001b[0m\n\u001b[0;32m--> 795\u001b[0;31m                 \u001b[0;32mreturn\u001b[0m \u001b[0margmap\u001b[0m\u001b[0;34m.\u001b[0m\u001b[0m_lazy_compile\u001b[0m\u001b[0;34m(\u001b[0m\u001b[0m__wrapper\u001b[0m\u001b[0;34m)\u001b[0m\u001b[0;34m(\u001b[0m\u001b[0;34m*\u001b[0m\u001b[0margs\u001b[0m\u001b[0;34m,\u001b[0m \u001b[0;34m**\u001b[0m\u001b[0mkwargs\u001b[0m\u001b[0;34m)\u001b[0m\u001b[0;34m\u001b[0m\u001b[0;34m\u001b[0m\u001b[0m\n\u001b[0m\u001b[1;32m    796\u001b[0m \u001b[0;34m\u001b[0m\u001b[0m\n\u001b[1;32m    797\u001b[0m         \u001b[0;31m# standard function-wrapping stuff\u001b[0m\u001b[0;34m\u001b[0m\u001b[0;34m\u001b[0m\u001b[0;34m\u001b[0m\u001b[0m\n",
      "\u001b[0;32m~/miniconda3/envs/cs276/lib/python3.7/site-packages/networkx/utils/decorators.py\u001b[0m in \u001b[0;36margmap__sparse_fruchterman_reingold_5\u001b[0;34m(A, k, pos, fixed, iterations, threshold, dim, seed)\u001b[0m\n\u001b[1;32m      2\u001b[0m \u001b[0;32mfrom\u001b[0m \u001b[0mos\u001b[0m\u001b[0;34m.\u001b[0m\u001b[0mpath\u001b[0m \u001b[0;32mimport\u001b[0m \u001b[0msplitext\u001b[0m\u001b[0;34m\u001b[0m\u001b[0;34m\u001b[0m\u001b[0m\n\u001b[1;32m      3\u001b[0m \u001b[0;32mfrom\u001b[0m \u001b[0mcontextlib\u001b[0m \u001b[0;32mimport\u001b[0m \u001b[0mcontextmanager\u001b[0m\u001b[0;34m\u001b[0m\u001b[0;34m\u001b[0m\u001b[0m\n\u001b[0;32m----> 4\u001b[0;31m \u001b[0;32mfrom\u001b[0m \u001b[0mpathlib\u001b[0m \u001b[0;32mimport\u001b[0m \u001b[0mPath\u001b[0m\u001b[0;34m\u001b[0m\u001b[0;34m\u001b[0m\u001b[0m\n\u001b[0m\u001b[1;32m      5\u001b[0m \u001b[0;32mimport\u001b[0m \u001b[0mwarnings\u001b[0m\u001b[0;34m\u001b[0m\u001b[0;34m\u001b[0m\u001b[0m\n\u001b[1;32m      6\u001b[0m \u001b[0;34m\u001b[0m\u001b[0m\n",
      "\u001b[0;32m~/miniconda3/envs/cs276/lib/python3.7/site-packages/networkx/drawing/layout.py\u001b[0m in \u001b[0;36m_sparse_fruchterman_reingold\u001b[0;34m(A, k, pos, fixed, iterations, threshold, dim, seed)\u001b[0m\n\u001b[1;32m    624\u001b[0m             displacement[:, i] += (\n\u001b[1;32m    625\u001b[0m                 \u001b[0mdelta\u001b[0m \u001b[0;34m*\u001b[0m \u001b[0;34m(\u001b[0m\u001b[0mk\u001b[0m \u001b[0;34m*\u001b[0m \u001b[0mk\u001b[0m \u001b[0;34m/\u001b[0m \u001b[0mdistance\u001b[0m \u001b[0;34m**\u001b[0m \u001b[0;36m2\u001b[0m \u001b[0;34m-\u001b[0m \u001b[0mAi\u001b[0m \u001b[0;34m*\u001b[0m \u001b[0mdistance\u001b[0m \u001b[0;34m/\u001b[0m \u001b[0mk\u001b[0m\u001b[0;34m)\u001b[0m\u001b[0;34m\u001b[0m\u001b[0;34m\u001b[0m\u001b[0m\n\u001b[0;32m--> 626\u001b[0;31m             ).sum(axis=1)\n\u001b[0m\u001b[1;32m    627\u001b[0m         \u001b[0;31m# update positions\u001b[0m\u001b[0;34m\u001b[0m\u001b[0;34m\u001b[0m\u001b[0;34m\u001b[0m\u001b[0m\n\u001b[1;32m    628\u001b[0m         \u001b[0mlength\u001b[0m \u001b[0;34m=\u001b[0m \u001b[0mnp\u001b[0m\u001b[0;34m.\u001b[0m\u001b[0msqrt\u001b[0m\u001b[0;34m(\u001b[0m\u001b[0;34m(\u001b[0m\u001b[0mdisplacement\u001b[0m \u001b[0;34m**\u001b[0m \u001b[0;36m2\u001b[0m\u001b[0;34m)\u001b[0m\u001b[0;34m.\u001b[0m\u001b[0msum\u001b[0m\u001b[0;34m(\u001b[0m\u001b[0maxis\u001b[0m\u001b[0;34m=\u001b[0m\u001b[0;36m0\u001b[0m\u001b[0;34m)\u001b[0m\u001b[0;34m)\u001b[0m\u001b[0;34m\u001b[0m\u001b[0;34m\u001b[0m\u001b[0m\n",
      "\u001b[0;31mKeyboardInterrupt\u001b[0m: "
     ]
    },
    {
     "data": {
      "text/plain": [
       "<Figure size 1000x1000 with 0 Axes>"
      ]
     },
     "metadata": {},
     "output_type": "display_data"
    }
   ],
   "source": [
    "import matplotlib.pyplot as plt\n",
    "import networkx as nx\n",
    "from torch_geometric.utils import to_networkx\n",
    "\n",
    "# Convert to NetworkX graph for visualization\n",
    "G = to_networkx(data, to_undirected=True)\n",
    "\n",
    "# Plot original graph with nodes and edges\n",
    "plt.figure(figsize=(10, 10))\n",
    "pos = nx.spring_layout(G, seed=42)  # Use spring layout for visualization\n",
    "\n",
    "# Draw original graph nodes and edges\n",
    "nx.draw_networkx_nodes(G, pos, node_size=50, node_color=\"blue\", alpha=0.7)\n",
    "nx.draw_networkx_edges(G, pos, alpha=0.5)\n",
    "\n",
    "# Visualize the predicted links with high confidence\n",
    "def visualize_predicted_links(edge_index, scores, threshold=0.5):\n",
    "    for i, (u, v) in enumerate(edge_index.T):\n",
    "        # Check if the score exceeds the threshold\n",
    "        if scores[i] > threshold:\n",
    "            # Draw the edge if the score is high\n",
    "            nx.draw_networkx_edges(\n",
    "                G, pos, edgelist=[(u.item(), v.item())], edge_color=\"red\", alpha=0.3, width=2\n",
    "            )\n",
    "\n",
    "# Assume `valid_scores` and `test_scores` contain predicted probabilities for links\n",
    "# Visualize links with high confidence in validation and test sets\n",
    "visualize_predicted_links(valid_edges.T, valid_scores, threshold=0.8)\n",
    "visualize_predicted_links(test_edges.T, test_scores, threshold=0.8)\n",
    "\n",
    "# Show plot\n",
    "plt.title(\"Graph Visualization with Predicted Links\")\n",
    "plt.show()\n"
   ]
  }
 ],
 "metadata": {
  "kernelspec": {
   "display_name": "Python 3 (ipykernel)",
   "language": "python",
   "name": "python3"
  },
  "language_info": {
   "codemirror_mode": {
    "name": "ipython",
    "version": 3
   },
   "file_extension": ".py",
   "mimetype": "text/x-python",
   "name": "python",
   "nbconvert_exporter": "python",
   "pygments_lexer": "ipython3",
   "version": "3.7.16"
  }
 },
 "nbformat": 4,
 "nbformat_minor": 2
}
